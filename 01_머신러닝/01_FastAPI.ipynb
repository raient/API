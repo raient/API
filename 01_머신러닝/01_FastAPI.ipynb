{
  "nbformat": 4,
  "nbformat_minor": 0,
  "metadata": {
    "colab": {
      "name": "01_FastAPI.ipynb",
      "provenance": [],
      "collapsed_sections": []
    },
    "kernelspec": {
      "name": "python3",
      "display_name": "Python 3"
    },
    "language_info": {
      "name": "python"
    }
  },
  "cells": [
    {
      "cell_type": "code",
      "metadata": {
        "colab": {
          "base_uri": "https://localhost:8080/"
        },
        "id": "-CRZvS9k9-2a",
        "outputId": "32b026ef-4cbf-4629-a3ee-9bc4b917b9a0"
      },
      "source": [
        "!pip install fastapi nest-asyncio pyngrok uvicorn"
      ],
      "execution_count": 1,
      "outputs": [
        {
          "output_type": "stream",
          "name": "stdout",
          "text": [
            "Collecting fastapi\n",
            "  Downloading fastapi-0.68.1-py3-none-any.whl (52 kB)\n",
            "\u001b[?25l\r\u001b[K     |██████▎                         | 10 kB 20.1 MB/s eta 0:00:01\r\u001b[K     |████████████▌                   | 20 kB 21.7 MB/s eta 0:00:01\r\u001b[K     |██████████████████▉             | 30 kB 17.9 MB/s eta 0:00:01\r\u001b[K     |█████████████████████████       | 40 kB 12.6 MB/s eta 0:00:01\r\u001b[K     |███████████████████████████████▍| 51 kB 10.0 MB/s eta 0:00:01\r\u001b[K     |████████████████████████████████| 52 kB 434 kB/s \n",
            "\u001b[?25hRequirement already satisfied: nest-asyncio in /usr/local/lib/python3.7/dist-packages (1.5.1)\n",
            "Collecting pyngrok\n",
            "  Downloading pyngrok-5.1.0.tar.gz (745 kB)\n",
            "\u001b[K     |████████████████████████████████| 745 kB 16.2 MB/s \n",
            "\u001b[?25hCollecting uvicorn\n",
            "  Downloading uvicorn-0.15.0-py3-none-any.whl (54 kB)\n",
            "\u001b[K     |████████████████████████████████| 54 kB 2.4 MB/s \n",
            "\u001b[?25hCollecting pydantic!=1.7,!=1.7.1,!=1.7.2,!=1.7.3,!=1.8,!=1.8.1,<2.0.0,>=1.6.2\n",
            "  Downloading pydantic-1.8.2-cp37-cp37m-manylinux2014_x86_64.whl (10.1 MB)\n",
            "\u001b[K     |████████████████████████████████| 10.1 MB 51.7 MB/s \n",
            "\u001b[?25hCollecting starlette==0.14.2\n",
            "  Downloading starlette-0.14.2-py3-none-any.whl (60 kB)\n",
            "\u001b[K     |████████████████████████████████| 60 kB 7.8 MB/s \n",
            "\u001b[?25hRequirement already satisfied: typing-extensions>=3.7.4.3 in /usr/local/lib/python3.7/dist-packages (from pydantic!=1.7,!=1.7.1,!=1.7.2,!=1.7.3,!=1.8,!=1.8.1,<2.0.0,>=1.6.2->fastapi) (3.7.4.3)\n",
            "Requirement already satisfied: PyYAML in /usr/local/lib/python3.7/dist-packages (from pyngrok) (3.13)\n",
            "Collecting h11>=0.8\n",
            "  Downloading h11-0.12.0-py3-none-any.whl (54 kB)\n",
            "\u001b[K     |████████████████████████████████| 54 kB 3.4 MB/s \n",
            "\u001b[?25hRequirement already satisfied: click>=7.0 in /usr/local/lib/python3.7/dist-packages (from uvicorn) (7.1.2)\n",
            "Collecting asgiref>=3.4.0\n",
            "  Downloading asgiref-3.4.1-py3-none-any.whl (25 kB)\n",
            "Building wheels for collected packages: pyngrok\n",
            "  Building wheel for pyngrok (setup.py) ... \u001b[?25l\u001b[?25hdone\n",
            "  Created wheel for pyngrok: filename=pyngrok-5.1.0-py3-none-any.whl size=19006 sha256=a3c5f2515cd0bbb73bb252070142845930c2af5b563cb17e4b9312613fa4fcae\n",
            "  Stored in directory: /root/.cache/pip/wheels/bf/e6/af/ccf6598ecefecd44104069371795cb9b3afbcd16987f6ccfb3\n",
            "Successfully built pyngrok\n",
            "Installing collected packages: starlette, pydantic, h11, asgiref, uvicorn, pyngrok, fastapi\n",
            "Successfully installed asgiref-3.4.1 fastapi-0.68.1 h11-0.12.0 pydantic-1.8.2 pyngrok-5.1.0 starlette-0.14.2 uvicorn-0.15.0\n"
          ]
        }
      ]
    },
    {
      "cell_type": "code",
      "metadata": {
        "id": "DIGK-NGRZl1I"
      },
      "source": [
        "from typing import Optional\n",
        "from fastapi import FastAPI\n",
        "import nest_asyncio\n",
        "from pyngrok import ngrok\n",
        "import uvicorn"
      ],
      "execution_count": 8,
      "outputs": []
    },
    {
      "cell_type": "code",
      "metadata": {
        "id": "MmXrVmqcZ54I"
      },
      "source": [
        "app = FastAPI()\n",
        "\n",
        "@app.get('/')\n",
        "def read_root():\n",
        "  return {\"Hello\":\"World\"}\n",
        "\n",
        "@app.get('/items/{item_id}')\n",
        "def read_item(item_id:int, q:Optional[str]=None):\n",
        "  return{'item_id':item_id, 'q':q}\n",
        "\n"
      ],
      "execution_count": 15,
      "outputs": []
    },
    {
      "cell_type": "code",
      "metadata": {
        "colab": {
          "base_uri": "https://localhost:8080/"
        },
        "id": "2pHs76n1aflP",
        "outputId": "b486f770-2667-483f-98ba-644b2e67ef69"
      },
      "source": [
        "ngrok_tunnel = ngrok.connect(8000)\n",
        "print('Public URL:', ngrok_tunnel.public_url)\n",
        "nest_asyncio.apply()\n",
        "uvicorn.run(app, port=8000)"
      ],
      "execution_count": null,
      "outputs": [
        {
          "output_type": "stream",
          "name": "stderr",
          "text": [
            "INFO:     Started server process [64]\n",
            "INFO:     Waiting for application startup.\n",
            "INFO:     Application startup complete.\n",
            "INFO:     Uvicorn running on http://127.0.0.1:8000 (Press CTRL+C to quit)\n"
          ]
        },
        {
          "output_type": "stream",
          "name": "stdout",
          "text": [
            "Public URL: http://7269-34-105-86-194.ngrok.io\n",
            "INFO:     220.121.252.161:0 - \"GET / HTTP/1.1\" 200 OK\n",
            "INFO:     220.121.252.161:0 - \"GET /favicon.ico HTTP/1.1\" 404 Not Found\n",
            "INFO:     58.123.220.11:0 - \"GET / HTTP/1.1\" 200 OK\n"
          ]
        }
      ]
    },
    {
      "cell_type": "code",
      "metadata": {
        "colab": {
          "base_uri": "https://localhost:8080/"
        },
        "id": "DVvEYy_3eJG_",
        "outputId": "fbd54b77-6716-4768-82ef-d267ba608de1"
      },
      "source": [
        "\n"
      ],
      "execution_count": 17,
      "outputs": [
        {
          "output_type": "stream",
          "name": "stdout",
          "text": [
            "    PID TTY          TIME CMD\n",
            "      1 ?        00:00:04 node\n",
            "     18 ?        00:00:00 tail\n",
            "     53 ?        00:00:04 jupyter-noteboo\n",
            "     54 ?        00:00:02 dap_multiplexer\n",
            "     64 ?        00:00:14 python3\n",
            "     84 ?        00:00:05 python3\n",
            "    211 ?        00:00:04 ngrok\n",
            "    426 ?        00:00:00 ps\n"
          ]
        }
      ]
    },
    {
      "cell_type": "code",
      "metadata": {
        "colab": {
          "base_uri": "https://localhost:8080/"
        },
        "id": "nk_RltnCgVog",
        "outputId": "a1750cf6-1a0e-437e-d7a0-e7d3e067a491"
      },
      "source": [
        "!kill -9"
      ],
      "execution_count": 18,
      "outputs": [
        {
          "output_type": "stream",
          "name": "stdout",
          "text": [
            "kill: usage: kill [-s sigspec | -n signum | -sigspec] pid | jobspec ... or kill -l [sigspec]\n"
          ]
        }
      ]
    },
    {
      "cell_type": "code",
      "metadata": {
        "colab": {
          "base_uri": "https://localhost:8080/"
        },
        "id": "tz7ul6OlgaK_",
        "outputId": "74d618a5-e77d-4cf6-b59d-308c56e7421c"
      },
      "source": [
        "!ps\n"
      ],
      "execution_count": 19,
      "outputs": [
        {
          "output_type": "stream",
          "name": "stdout",
          "text": [
            "    PID TTY          TIME CMD\n",
            "      1 ?        00:00:04 node\n",
            "     18 ?        00:00:00 tail\n",
            "     53 ?        00:00:04 jupyter-noteboo\n",
            "     54 ?        00:00:02 dap_multiplexer\n",
            "     64 ?        00:00:14 python3\n",
            "     84 ?        00:00:05 python3\n",
            "    211 ?        00:00:04 ngrok\n",
            "    436 ?        00:00:00 ps\n"
          ]
        }
      ]
    },
    {
      "cell_type": "code",
      "metadata": {
        "id": "fjPBN8oDgfjn"
      },
      "source": [
        "!kill -9 211"
      ],
      "execution_count": 20,
      "outputs": []
    },
    {
      "cell_type": "code",
      "metadata": {
        "id": "NLNKWLqxgjKv"
      },
      "source": [
        ""
      ],
      "execution_count": null,
      "outputs": []
    }
  ]
}