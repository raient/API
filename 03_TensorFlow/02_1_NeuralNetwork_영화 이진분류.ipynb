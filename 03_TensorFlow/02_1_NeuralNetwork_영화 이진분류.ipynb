{
 "cells": [
  {
   "cell_type": "code",
   "execution_count": 1,
   "source": [
    "import tensorflow as tf\r\n",
    "from tensorflow import keras\r\n",
    "\r\n",
    "import numpy as np\r\n",
    "import matplotlib.pyplot as plt"
   ],
   "outputs": [],
   "metadata": {}
  },
  {
   "cell_type": "markdown",
   "source": [
    "# 영화 리뷰 분류 -이진 분류"
   ],
   "metadata": {}
  },
  {
   "cell_type": "code",
   "execution_count": 2,
   "source": [
    "from tensorflow.keras.datasets import imdb\r\n",
    "(train_data, train_labels), (test_data, test_labels) = imdb.load_data(num_words=10000)"
   ],
   "outputs": [
    {
     "output_type": "stream",
     "name": "stderr",
     "text": [
      "<__array_function__ internals>:5: VisibleDeprecationWarning: Creating an ndarray from ragged nested sequences (which is a list-or-tuple of lists-or-tuples-or ndarrays with different lengths or shapes) is deprecated. If you meant to do this, you must specify 'dtype=object' when creating the ndarray.\n",
      "C:\\Users\\user\\anaconda3\\lib\\site-packages\\tensorflow\\python\\keras\\datasets\\imdb.py:159: VisibleDeprecationWarning: Creating an ndarray from ragged nested sequences (which is a list-or-tuple of lists-or-tuples-or ndarrays with different lengths or shapes) is deprecated. If you meant to do this, you must specify 'dtype=object' when creating the ndarray.\n",
      "  x_train, y_train = np.array(xs[:idx]), np.array(labels[:idx])\n",
      "C:\\Users\\user\\anaconda3\\lib\\site-packages\\tensorflow\\python\\keras\\datasets\\imdb.py:160: VisibleDeprecationWarning: Creating an ndarray from ragged nested sequences (which is a list-or-tuple of lists-or-tuples-or ndarrays with different lengths or shapes) is deprecated. If you meant to do this, you must specify 'dtype=object' when creating the ndarray.\n",
      "  x_test, y_test = np.array(xs[idx:]), np.array(labels[idx:])\n"
     ]
    }
   ],
   "metadata": {}
  },
  {
   "cell_type": "code",
   "execution_count": 3,
   "source": [
    "print (train_data[0])"
   ],
   "outputs": [
    {
     "output_type": "stream",
     "name": "stdout",
     "text": [
      "[1, 14, 22, 16, 43, 530, 973, 1622, 1385, 65, 458, 4468, 66, 3941, 4, 173, 36, 256, 5, 25, 100, 43, 838, 112, 50, 670, 2, 9, 35, 480, 284, 5, 150, 4, 172, 112, 167, 2, 336, 385, 39, 4, 172, 4536, 1111, 17, 546, 38, 13, 447, 4, 192, 50, 16, 6, 147, 2025, 19, 14, 22, 4, 1920, 4613, 469, 4, 22, 71, 87, 12, 16, 43, 530, 38, 76, 15, 13, 1247, 4, 22, 17, 515, 17, 12, 16, 626, 18, 2, 5, 62, 386, 12, 8, 316, 8, 106, 5, 4, 2223, 5244, 16, 480, 66, 3785, 33, 4, 130, 12, 16, 38, 619, 5, 25, 124, 51, 36, 135, 48, 25, 1415, 33, 6, 22, 12, 215, 28, 77, 52, 5, 14, 407, 16, 82, 2, 8, 4, 107, 117, 5952, 15, 256, 4, 2, 7, 3766, 5, 723, 36, 71, 43, 530, 476, 26, 400, 317, 46, 7, 4, 2, 1029, 13, 104, 88, 4, 381, 15, 297, 98, 32, 2071, 56, 26, 141, 6, 194, 7486, 18, 4, 226, 22, 21, 134, 476, 26, 480, 5, 144, 30, 5535, 18, 51, 36, 28, 224, 92, 25, 104, 4, 226, 65, 16, 38, 1334, 88, 12, 16, 283, 5, 16, 4472, 113, 103, 32, 15, 16, 5345, 19, 178, 32]\n"
     ]
    }
   ],
   "metadata": {}
  },
  {
   "cell_type": "code",
   "execution_count": 4,
   "source": [
    "print (train_labels[0])\r\n"
   ],
   "outputs": [
    {
     "output_type": "stream",
     "name": "stdout",
     "text": [
      "1\n"
     ]
    }
   ],
   "metadata": {}
  },
  {
   "cell_type": "code",
   "execution_count": 6,
   "source": [
    "print (max([max(sequence) for sequence in train_data]))\r\n"
   ],
   "outputs": [
    {
     "output_type": "stream",
     "name": "stdout",
     "text": [
      "9999\n"
     ]
    }
   ],
   "metadata": {}
  },
  {
   "cell_type": "code",
   "execution_count": 8,
   "source": [
    "word_index = imdb.get_word_index()\r\n",
    "reverse_word_index = dict([(value, key) for (key, value) in word_index.items()])\r\n",
    "decoded_review = ' '.join([reverse_word_index.get(i-3, '?') for i in train_data[0]])\r\n",
    "print (decoded_review)"
   ],
   "outputs": [
    {
     "output_type": "stream",
     "name": "stdout",
     "text": [
      "? this film was just brilliant casting location scenery story direction everyone's really suited the part they played and you could just imagine being there robert ? is an amazing actor and now the same being director ? father came from the same scottish island as myself so i loved the fact there was a real connection with this film the witty remarks throughout the film were great it was just brilliant so much that i bought the film as soon as it was released for ? and would recommend it to everyone to watch and the fly fishing was amazing really cried at the end it was so sad and you know what they say if you cry at a film it must have been good and this definitely was also ? to the two little boy's that played the ? of norman and paul they were just brilliant children are often left out of the ? list i think because the stars that play them all grown up are such a big profile for the whole film but these children are amazing and should be praised for what they have done don't you think the whole story was so lovely because it was true and was someone's life after all that was shared with us all\n"
     ]
    }
   ],
   "metadata": {}
  },
  {
   "cell_type": "code",
   "execution_count": 20,
   "source": [
    "import numpy as np\r\n",
    "\r\n",
    "def vectorize_sequences(seqs, dim = 10000):\r\n",
    "    results = np.zeros((len(seqs), dim))\r\n",
    "    for i, seq in enumerate(seqs):\r\n",
    "        results[i,seq] =1.\r\n",
    "    return results\r\n",
    "\r\n",
    "x_train = vectorize_sequences(train_data)\r\n",
    "x_test = vectorize_sequences(test_data)"
   ],
   "outputs": [],
   "metadata": {}
  },
  {
   "cell_type": "code",
   "execution_count": 21,
   "source": [
    "print(x_train[0])"
   ],
   "outputs": [
    {
     "output_type": "stream",
     "name": "stdout",
     "text": [
      "[0. 1. 1. ... 0. 0. 0.]\n"
     ]
    }
   ],
   "metadata": {}
  },
  {
   "cell_type": "code",
   "execution_count": 26,
   "source": [
    "y_train = np.asarray(train_labels).astype('float32')\r\n",
    "y_test = np.asarray(test_labels).astype('float32')"
   ],
   "outputs": [],
   "metadata": {}
  },
  {
   "cell_type": "code",
   "execution_count": 27,
   "source": [
    "from tensorflow.keras import models\r\n",
    "from tensorflow.keras import layers"
   ],
   "outputs": [],
   "metadata": {}
  },
  {
   "cell_type": "code",
   "execution_count": 28,
   "source": [
    "model = models.Sequential()\r\n",
    "model.add(layers.Dense(16, activation = 'relu', input_shape=(10000,)))\r\n",
    "model.add(layers.Dense(16, activation = 'relu'))\r\n",
    "model.add(layers.Dense(1, activation='sigmoid'))"
   ],
   "outputs": [],
   "metadata": {}
  },
  {
   "cell_type": "code",
   "execution_count": 29,
   "source": [
    "model.compile(optimizer = 'rmsprop', loss = 'binary_crossentropy', metrics = ['accuracy'])\r\n",
    "\r\n"
   ],
   "outputs": [],
   "metadata": {}
  },
  {
   "cell_type": "code",
   "execution_count": 31,
   "source": [
    "from tensorflow.keras import optimizers\r\n",
    "model.compile(optimizer = optimizers.RMSprop(lr=0.001), loss = 'binary_crossentropy', metrics=['accuracy'])\r\n"
   ],
   "outputs": [],
   "metadata": {}
  },
  {
   "cell_type": "code",
   "execution_count": 33,
   "source": [
    "from tensorflow.keras import losses\r\n",
    "from tensorflow.keras import metrics\r\n",
    "\r\n",
    "model.compile(optimizer=optimizers.RMSprop(lr=0.001), loss =losses.binary_crossentropy,metrics =[metrics.binary_accuracy])"
   ],
   "outputs": [],
   "metadata": {}
  },
  {
   "cell_type": "code",
   "execution_count": 34,
   "source": [
    "x_val = x_train[:10000]\r\n",
    "partial_x_train = x_train[10000:]\r\n",
    "y_val = y_train[:10000]\r\n",
    "partial_y_train = y_train[10000:]"
   ],
   "outputs": [],
   "metadata": {}
  },
  {
   "cell_type": "code",
   "execution_count": 38,
   "source": [
    "model.compile(optimizer='rmsprop', loss = 'binary_crossentropy', metrics = ['acc'])\r\n",
    "history = model.fit(partial_x_train, partial_y_train, epochs=50, batch_size = 512, validation_data=(x_val, y_val))"
   ],
   "outputs": [
    {
     "output_type": "stream",
     "name": "stdout",
     "text": [
      "Epoch 1/50\n",
      "30/30 [==============================] - 1s 37ms/step - loss: 0.5145 - acc: 0.7853 - val_loss: 0.3865 - val_acc: 0.8745\n",
      "Epoch 2/50\n",
      "30/30 [==============================] - 0s 14ms/step - loss: 0.3067 - acc: 0.9035 - val_loss: 0.3228 - val_acc: 0.8745\n",
      "Epoch 3/50\n",
      "30/30 [==============================] - 0s 14ms/step - loss: 0.2246 - acc: 0.9276 - val_loss: 0.2883 - val_acc: 0.8850\n",
      "Epoch 4/50\n",
      "30/30 [==============================] - 0s 14ms/step - loss: 0.1783 - acc: 0.9434 - val_loss: 0.2859 - val_acc: 0.8836\n",
      "Epoch 5/50\n",
      "30/30 [==============================] - 0s 13ms/step - loss: 0.1464 - acc: 0.9534 - val_loss: 0.2956 - val_acc: 0.8816\n",
      "Epoch 6/50\n",
      "30/30 [==============================] - 0s 13ms/step - loss: 0.1204 - acc: 0.9645 - val_loss: 0.3133 - val_acc: 0.8786\n",
      "Epoch 7/50\n",
      "30/30 [==============================] - 0s 13ms/step - loss: 0.1010 - acc: 0.9693 - val_loss: 0.3124 - val_acc: 0.8835\n",
      "Epoch 8/50\n",
      "30/30 [==============================] - 0s 13ms/step - loss: 0.0818 - acc: 0.9781 - val_loss: 0.3389 - val_acc: 0.8791\n",
      "Epoch 9/50\n",
      "30/30 [==============================] - 0s 12ms/step - loss: 0.0699 - acc: 0.9809 - val_loss: 0.3473 - val_acc: 0.8824\n",
      "Epoch 10/50\n",
      "30/30 [==============================] - 0s 13ms/step - loss: 0.0567 - acc: 0.9854 - val_loss: 0.3730 - val_acc: 0.8789\n",
      "Epoch 11/50\n",
      "30/30 [==============================] - 0s 13ms/step - loss: 0.0453 - acc: 0.9894 - val_loss: 0.3990 - val_acc: 0.8781\n",
      "Epoch 12/50\n",
      "30/30 [==============================] - 0s 13ms/step - loss: 0.0399 - acc: 0.9901 - val_loss: 0.4266 - val_acc: 0.8757\n",
      "Epoch 13/50\n",
      "30/30 [==============================] - 0s 13ms/step - loss: 0.0289 - acc: 0.9941 - val_loss: 0.4566 - val_acc: 0.8749\n",
      "Epoch 14/50\n",
      "30/30 [==============================] - 0s 13ms/step - loss: 0.0240 - acc: 0.9955 - val_loss: 0.5631 - val_acc: 0.8587\n",
      "Epoch 15/50\n",
      "30/30 [==============================] - 0s 15ms/step - loss: 0.0198 - acc: 0.9964 - val_loss: 0.5234 - val_acc: 0.8703\n",
      "Epoch 16/50\n",
      "30/30 [==============================] - 1s 17ms/step - loss: 0.0167 - acc: 0.9969 - val_loss: 0.5526 - val_acc: 0.8699\n",
      "Epoch 17/50\n",
      "30/30 [==============================] - 0s 14ms/step - loss: 0.0094 - acc: 0.9995 - val_loss: 0.5882 - val_acc: 0.8673\n",
      "Epoch 18/50\n",
      "30/30 [==============================] - 0s 14ms/step - loss: 0.0095 - acc: 0.9993 - val_loss: 0.6388 - val_acc: 0.8670\n",
      "Epoch 19/50\n",
      "30/30 [==============================] - 0s 12ms/step - loss: 0.0079 - acc: 0.9993 - val_loss: 0.6679 - val_acc: 0.8660\n",
      "Epoch 20/50\n",
      "30/30 [==============================] - 0s 13ms/step - loss: 0.0064 - acc: 0.9991 - val_loss: 0.7125 - val_acc: 0.8632\n",
      "Epoch 21/50\n",
      "30/30 [==============================] - 0s 12ms/step - loss: 0.0031 - acc: 0.9999 - val_loss: 0.7304 - val_acc: 0.8664\n",
      "Epoch 22/50\n",
      "30/30 [==============================] - 0s 12ms/step - loss: 0.0059 - acc: 0.9988 - val_loss: 0.7573 - val_acc: 0.8640\n",
      "Epoch 23/50\n",
      "30/30 [==============================] - 0s 13ms/step - loss: 0.0019 - acc: 0.9999 - val_loss: 0.7950 - val_acc: 0.8633\n",
      "Epoch 24/50\n",
      "30/30 [==============================] - 0s 12ms/step - loss: 0.0034 - acc: 0.9993 - val_loss: 0.8409 - val_acc: 0.8637\n",
      "Epoch 25/50\n",
      "30/30 [==============================] - 0s 13ms/step - loss: 0.0011 - acc: 0.9999 - val_loss: 0.8724 - val_acc: 0.8629\n",
      "Epoch 26/50\n",
      "30/30 [==============================] - 0s 12ms/step - loss: 8.7669e-04 - acc: 0.9999 - val_loss: 0.9591 - val_acc: 0.8609\n",
      "Epoch 27/50\n",
      "30/30 [==============================] - 0s 13ms/step - loss: 0.0036 - acc: 0.9991 - val_loss: 0.9770 - val_acc: 0.8646\n",
      "Epoch 28/50\n",
      "30/30 [==============================] - 0s 13ms/step - loss: 4.0204e-04 - acc: 1.0000 - val_loss: 0.9913 - val_acc: 0.8627\n",
      "Epoch 29/50\n",
      "30/30 [==============================] - 0s 13ms/step - loss: 3.2815e-04 - acc: 1.0000 - val_loss: 1.0192 - val_acc: 0.8620\n",
      "Epoch 30/50\n",
      "30/30 [==============================] - 0s 12ms/step - loss: 0.0030 - acc: 0.9990 - val_loss: 1.1036 - val_acc: 0.8571\n",
      "Epoch 31/50\n",
      "30/30 [==============================] - 0s 12ms/step - loss: 2.1493e-04 - acc: 1.0000 - val_loss: 1.0889 - val_acc: 0.8597\n",
      "Epoch 32/50\n",
      "30/30 [==============================] - 0s 13ms/step - loss: 1.5770e-04 - acc: 1.0000 - val_loss: 1.1096 - val_acc: 0.8601\n",
      "Epoch 33/50\n",
      "30/30 [==============================] - 0s 13ms/step - loss: 1.3056e-04 - acc: 1.0000 - val_loss: 1.1564 - val_acc: 0.8600\n",
      "Epoch 34/50\n",
      "30/30 [==============================] - 0s 13ms/step - loss: 0.0024 - acc: 0.9993 - val_loss: 1.2083 - val_acc: 0.8607\n",
      "Epoch 35/50\n",
      "30/30 [==============================] - 0s 13ms/step - loss: 6.9212e-05 - acc: 1.0000 - val_loss: 1.2200 - val_acc: 0.8600\n",
      "Epoch 36/50\n",
      "30/30 [==============================] - 0s 13ms/step - loss: 5.9783e-05 - acc: 1.0000 - val_loss: 1.2400 - val_acc: 0.8601\n",
      "Epoch 37/50\n",
      "30/30 [==============================] - 0s 13ms/step - loss: 4.9663e-05 - acc: 1.0000 - val_loss: 1.2810 - val_acc: 0.8595\n",
      "Epoch 38/50\n",
      "30/30 [==============================] - 0s 13ms/step - loss: 0.0016 - acc: 0.9997 - val_loss: 1.3539 - val_acc: 0.8606\n",
      "Epoch 39/50\n",
      "30/30 [==============================] - 0s 12ms/step - loss: 2.8683e-05 - acc: 1.0000 - val_loss: 1.3641 - val_acc: 0.8576\n",
      "Epoch 40/50\n",
      "30/30 [==============================] - 0s 13ms/step - loss: 2.2571e-05 - acc: 1.0000 - val_loss: 1.3771 - val_acc: 0.8579\n",
      "Epoch 41/50\n",
      "30/30 [==============================] - 0s 13ms/step - loss: 1.9262e-05 - acc: 1.0000 - val_loss: 1.3999 - val_acc: 0.8576\n",
      "Epoch 42/50\n",
      "30/30 [==============================] - 0s 12ms/step - loss: 5.6518e-04 - acc: 0.9998 - val_loss: 1.4710 - val_acc: 0.8564\n",
      "Epoch 43/50\n",
      "30/30 [==============================] - 0s 13ms/step - loss: 1.5660e-05 - acc: 1.0000 - val_loss: 1.4574 - val_acc: 0.8572\n",
      "Epoch 44/50\n",
      "30/30 [==============================] - 0s 12ms/step - loss: 1.1207e-05 - acc: 1.0000 - val_loss: 1.4692 - val_acc: 0.8570\n",
      "Epoch 45/50\n",
      "30/30 [==============================] - 0s 13ms/step - loss: 9.4580e-06 - acc: 1.0000 - val_loss: 1.4911 - val_acc: 0.8572\n",
      "Epoch 46/50\n",
      "30/30 [==============================] - 0s 12ms/step - loss: 7.2814e-06 - acc: 1.0000 - val_loss: 1.5608 - val_acc: 0.8565\n",
      "Epoch 47/50\n",
      "30/30 [==============================] - 0s 13ms/step - loss: 0.0015 - acc: 0.9997 - val_loss: 1.6196 - val_acc: 0.8574\n",
      "Epoch 48/50\n",
      "30/30 [==============================] - 0s 13ms/step - loss: 6.3129e-06 - acc: 1.0000 - val_loss: 1.6136 - val_acc: 0.8559\n",
      "Epoch 49/50\n",
      "30/30 [==============================] - 0s 12ms/step - loss: 4.4442e-06 - acc: 1.0000 - val_loss: 1.6157 - val_acc: 0.8562\n",
      "Epoch 50/50\n",
      "30/30 [==============================] - 0s 12ms/step - loss: 3.6039e-06 - acc: 1.0000 - val_loss: 1.6274 - val_acc: 0.8563\n"
     ]
    }
   ],
   "metadata": {}
  },
  {
   "cell_type": "code",
   "execution_count": 39,
   "source": [
    "history_dict = history.history\r\n",
    "history_dict.keys()"
   ],
   "outputs": [
    {
     "output_type": "execute_result",
     "data": {
      "text/plain": [
       "dict_keys(['loss', 'acc', 'val_loss', 'val_acc'])"
      ]
     },
     "metadata": {},
     "execution_count": 39
    }
   ],
   "metadata": {}
  },
  {
   "cell_type": "code",
   "execution_count": 42,
   "source": [
    "\r\n",
    "# 33 슬라이드\r\n",
    "import matplotlib.pyplot as plt\r\n",
    "\r\n",
    "history_dict = history.history\r\n",
    "loss = history_dict['loss']\r\n",
    "val_loss = history_dict['val_loss']\r\n",
    "\r\n",
    "epochs = range(1, len(loss)+1)\r\n",
    "\r\n",
    "plt.figure(figsize=(16,12))\r\n",
    "plt.plot(epochs, loss, 'bo', label = 'Traning loss')\r\n",
    "plt.plot(epochs, val_loss, 'b', label = 'Validation loss')\r\n",
    "plt.title('Training and validation loss')\r\n",
    "plt.xlabel('Epochs')\r\n",
    "plt.ylabel('loss')\r\n",
    "plt.legend()\r\n",
    "plt.show()\r\n",
    "\r\n"
   ],
   "outputs": [
    {
     "output_type": "display_data",
     "data": {
      "image/png": "[encoded data removed]",
      "text/plain": [
       "<Figure size 1152x864 with 1 Axes>"
      ]
     },
     "metadata": {
      "needs_background": "light"
     }
    }
   ],
   "metadata": {}
  },
  {
   "cell_type": "code",
   "execution_count": 46,
   "source": [
    "plt.clf()\r\n",
    "acc = history_dict['acc']\r\n",
    "val_acc = history_dict['val_acc']\r\n",
    "\r\n",
    "plt.figure(figsize =(16,12))\r\n",
    "plt.plot(epochs, acc, 'bo', label = 'Traing acc')\r\n",
    "plt.plot(epochs, val_acc,'b', label = 'Validation acc')\r\n",
    "plt.title('Training and validation accuracy')\r\n",
    "plt.xlabel('Epochs')\r\n",
    "plt.ylabel('Accuracy')\r\n",
    "plt.legend()\r\n",
    "plt.show()"
   ],
   "outputs": [
    {
     "output_type": "display_data",
     "data": {
      "text/plain": [
       "<Figure size 432x288 with 0 Axes>"
      ]
     },
     "metadata": {}
    },
    {
     "output_type": "display_data",
     "data": {
      "image/png": "[encoded data removed]",
      "text/plain": [
       "<Figure size 1152x864 with 1 Axes>"
      ]
     },
     "metadata": {
      "needs_background": "light"
     }
    }
   ],
   "metadata": {}
  },
  {
   "cell_type": "code",
   "execution_count": 48,
   "source": [
    "model = models.Sequential()\r\n",
    "model.add(layers.Dense(16, activation='relu', input_shape = (10000,)))\r\n",
    "model.add(layers.Dense(16, activation='relu'))\r\n",
    "model.add(layers.Dense(1, activation='sigmoid'))\r\n",
    "\r\n",
    "model.compile(optimizer = 'rmsprop', loss = 'binary_crossentropy', metrics = ['accuracy'])\r\n",
    "model.fit(x_train, y_train, epochs = 4, batch_size= 512)\r\n",
    "\r\n",
    "results = model.evaluate(x_test, y_test)\r\n",
    "print(results)\r\n"
   ],
   "outputs": [
    {
     "output_type": "stream",
     "name": "stdout",
     "text": [
      "Epoch 1/4\n",
      "49/49 [==============================] - 0s 9ms/step - loss: 0.4391 - accuracy: 0.8186\n",
      "Epoch 2/4\n",
      "49/49 [==============================] - 0s 9ms/step - loss: 0.2519 - accuracy: 0.9097\n",
      "Epoch 3/4\n",
      "49/49 [==============================] - 0s 9ms/step - loss: 0.1948 - accuracy: 0.9298\n",
      "Epoch 4/4\n",
      "49/49 [==============================] - 0s 9ms/step - loss: 0.1618 - accuracy: 0.9439\n",
      "782/782 [==============================] - 1s 937us/step - loss: 0.3047 - accuracy: 0.8784\n",
      "[0.30471622943878174, 0.8784400224685669]\n"
     ]
    }
   ],
   "metadata": {}
  },
  {
   "cell_type": "code",
   "execution_count": 49,
   "source": [
    "model.predict(x_test)"
   ],
   "outputs": [
    {
     "output_type": "execute_result",
     "data": {
      "text/plain": [
       "array([[0.12619442],\n",
       "       [0.9997649 ],\n",
       "       [0.76787746],\n",
       "       ...,\n",
       "       [0.10312402],\n",
       "       [0.06058952],\n",
       "       [0.5712092 ]], dtype=float32)"
      ]
     },
     "metadata": {},
     "execution_count": 49
    }
   ],
   "metadata": {}
  },
  {
   "cell_type": "code",
   "execution_count": null,
   "source": [],
   "outputs": [],
   "metadata": {}
  }
 ],
 "metadata": {
  "orig_nbformat": 4,
  "language_info": {
   "name": "python",
   "version": "3.8.10",
   "mimetype": "text/x-python",
   "codemirror_mode": {
    "name": "ipython",
    "version": 3
   },
   "pygments_lexer": "ipython3",
   "nbconvert_exporter": "python",
   "file_extension": ".py"
  },
  "kernelspec": {
   "name": "python3",
   "display_name": "Python 3.8.10 64-bit ('base': conda)"
  },
  "interpreter": {
   "hash": "6d46af94c2bbce495f1e668725902fa517c90b1782bcfe2fce0dd9868df553d3"
  }
 },
 "nbformat": 4,
 "nbformat_minor": 2
}