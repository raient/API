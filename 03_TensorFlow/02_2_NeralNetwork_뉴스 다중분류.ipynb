{
 "cells": [
  {
   "cell_type": "code",
   "execution_count": 1,
   "source": [
    "import tensorflow as tf\r\n",
    "from tensorflow import keras\r\n",
    "\r\n",
    "import numpy as np\r\n",
    "import matplotlib.pyplot as plt"
   ],
   "outputs": [],
   "metadata": {}
  },
  {
   "cell_type": "markdown",
   "source": [
    "# 뉴스기사 다중분류 개요\r\n",
    "## 로이터 뉴스를 46개의 상호 배타적 토픽으로 다중분류"
   ],
   "metadata": {}
  },
  {
   "cell_type": "code",
   "execution_count": 2,
   "source": [
    "#데이터 다운로드\r\n",
    "from tensorflow.keras.datasets import reuters\r\n",
    "(train_data, train_labels), (test_data, test_labels) = reuters.load_data(num_words=10000)"
   ],
   "outputs": [
    {
     "output_type": "stream",
     "name": "stderr",
     "text": [
      "C:\\Users\\user\\anaconda3\\lib\\site-packages\\tensorflow\\python\\keras\\datasets\\reuters.py:148: VisibleDeprecationWarning: Creating an ndarray from ragged nested sequences (which is a list-or-tuple of lists-or-tuples-or ndarrays with different lengths or shapes) is deprecated. If you meant to do this, you must specify 'dtype=object' when creating the ndarray.\n",
      "  x_train, y_train = np.array(xs[:idx]), np.array(labels[:idx])\n",
      "C:\\Users\\user\\anaconda3\\lib\\site-packages\\tensorflow\\python\\keras\\datasets\\reuters.py:149: VisibleDeprecationWarning: Creating an ndarray from ragged nested sequences (which is a list-or-tuple of lists-or-tuples-or ndarrays with different lengths or shapes) is deprecated. If you meant to do this, you must specify 'dtype=object' when creating the ndarray.\n",
      "  x_test, y_test = np.array(xs[idx:]), np.array(labels[idx:])\n"
     ]
    }
   ],
   "metadata": {}
  },
  {
   "cell_type": "code",
   "execution_count": 3,
   "source": [
    "print(len(train_data))\r\n",
    "print(len(test_data))"
   ],
   "outputs": [
    {
     "output_type": "stream",
     "name": "stdout",
     "text": [
      "8982\n",
      "2246\n"
     ]
    }
   ],
   "metadata": {}
  },
  {
   "cell_type": "code",
   "execution_count": 4,
   "source": [
    "#index로 0~45 사이의 정수\r\n",
    "print(train_labels[0])"
   ],
   "outputs": [
    {
     "output_type": "stream",
     "name": "stdout",
     "text": [
      "3\n"
     ]
    }
   ],
   "metadata": {}
  },
  {
   "cell_type": "code",
   "execution_count": 5,
   "source": [
    "# 데이터의 벡터 변환\r\n",
    "# 넘파이 필요\r\n",
    "def vectorize_sequences(seqs,dim = 10000):\r\n",
    "    results = np.zeros((len(seqs), dim))\r\n",
    "    for i, seq in enumerate(seqs):\r\n",
    "        results[i,seq] =1. #  특정 인덱스 위치를 1.으로 만듬\r\n",
    "    return results\r\n",
    "x_train = vectorize_sequences(train_data)\r\n",
    "x_test = vectorize_sequences(test_data)"
   ],
   "outputs": [],
   "metadata": {}
  },
  {
   "cell_type": "code",
   "execution_count": 6,
   "source": [
    "# 레이블을 벡터로 변환 , one-hot encoding이 범주형 데이터에 널리 사용\r\n",
    "\r\n",
    "def to_one_hot(labels, dim = 46):\r\n",
    "    results = np.zeros((len(labels), dim))\r\n",
    "    for i, l in enumerate(labels):\r\n",
    "        results[i,l]=1.\r\n",
    "    return results\r\n",
    "\r\n",
    "one_hot_train_labels = to_one_hot(train_labels)\r\n",
    "one_hot_test_labels = to_one_hot(test_labels)"
   ],
   "outputs": [],
   "metadata": {}
  },
  {
   "cell_type": "code",
   "execution_count": 7,
   "source": [
    "# 레이블 벡터 변환시 케라스의 to_categorical 함수도 사용 가능\r\n",
    "'''\r\n",
    "one_hot_train_labels = to_categorical(train_labels)\r\n",
    "one_hot_test_labels = to_categorical(test_labels)\r\n",
    "\r\n",
    "'''"
   ],
   "outputs": [
    {
     "output_type": "execute_result",
     "data": {
      "text/plain": [
       "'\\none_hot_train_labels = to_categorical(train_labels)\\none_hot_test_labels = to_categorical(test_labels)\\n\\n'"
      ]
     },
     "metadata": {},
     "execution_count": 7
    }
   ],
   "metadata": {}
  },
  {
   "cell_type": "code",
   "execution_count": 32,
   "source": [
    "# 모델 구성\r\n",
    "\r\n",
    "from tensorflow.keras import models\r\n",
    "from tensorflow.keras import layers\r\n",
    "\r\n",
    "model = models.Sequential()\r\n",
    "model.add(layers.Dense(64, activation='relu', input_shape = (10000, )))\r\n",
    "model.add(layers.Dense(64, activation='relu'))\r\n",
    "model.add(layers.Dense(46, activation='softmax'))\r\n",
    "# 마지막 Dense층의 크기가 46 → 각 입력 샘플에 대해 46차원의 벡터를 출력. \r\n",
    "# 이 벡터의 각 원소는 각기 다른 출력 클래스가 인코딩 된 것\r\n",
    "\r\n",
    "# 마지막 층에 softmax 활성화 함수 사용 → 각 입력 샘플마다 46개의 출력 클래스에 대한 확률 분포를 출력.\r\n",
    "# 46차원 출력벡터를 만들며 output[i]는 어떤 샘플이 클래스 i에 속할 확률. \r\n",
    "# 46개 값을 모두 더하면 1이 됨"
   ],
   "outputs": [],
   "metadata": {}
  },
  {
   "cell_type": "code",
   "execution_count": 33,
   "source": [
    "# 이런 문제에 사용할 최선의 손실 함수는 categorical_crossentropy\r\n",
    "model.compile(optimizer = 'rmsprop', loss = 'categorical_crossentropy', metrics=['accuracy'])"
   ],
   "outputs": [],
   "metadata": {}
  },
  {
   "cell_type": "code",
   "execution_count": 34,
   "source": [
    "#훈련 검증\r\n",
    "# 훈련 데이터에서 1000개의 샘플을 따로 떼어 검증 세트로 사용\r\n",
    "\r\n",
    "x_val = x_train[:1000]\r\n",
    "parital_x_train = x_train[1000:]\r\n",
    "\r\n",
    "y_val = one_hot_train_labels[:1000]\r\n",
    "partial_y_train = one_hot_train_labels[1000:]"
   ],
   "outputs": [],
   "metadata": {}
  },
  {
   "cell_type": "code",
   "execution_count": 35,
   "source": [
    "# 20번의 에포크로 모델 훈련\r\n",
    "history = model.fit(parital_x_train, partial_y_train, epochs = 20, batch_size=512,\r\n",
    "validation_data=(x_val, y_val))"
   ],
   "outputs": [
    {
     "output_type": "stream",
     "name": "stdout",
     "text": [
      "Epoch 1/20\n",
      "16/16 [==============================] - 0s 24ms/step - loss: 2.6383 - accuracy: 0.5466 - val_loss: 1.7733 - val_accuracy: 0.6610\n",
      "Epoch 2/20\n",
      "16/16 [==============================] - 0s 16ms/step - loss: 1.4431 - accuracy: 0.7020 - val_loss: 1.3098 - val_accuracy: 0.7030\n",
      "Epoch 3/20\n",
      "16/16 [==============================] - 0s 16ms/step - loss: 1.0734 - accuracy: 0.7646 - val_loss: 1.1428 - val_accuracy: 0.7410\n",
      "Epoch 4/20\n",
      "16/16 [==============================] - 0s 16ms/step - loss: 0.8562 - accuracy: 0.8107 - val_loss: 1.0317 - val_accuracy: 0.7750\n",
      "Epoch 5/20\n",
      "16/16 [==============================] - 0s 16ms/step - loss: 0.6939 - accuracy: 0.8539 - val_loss: 0.9780 - val_accuracy: 0.7860\n",
      "Epoch 6/20\n",
      "16/16 [==============================] - 0s 15ms/step - loss: 0.5576 - accuracy: 0.8862 - val_loss: 0.9467 - val_accuracy: 0.7920\n",
      "Epoch 7/20\n",
      "16/16 [==============================] - 0s 16ms/step - loss: 0.4550 - accuracy: 0.9070 - val_loss: 0.9333 - val_accuracy: 0.7940\n",
      "Epoch 8/20\n",
      "16/16 [==============================] - 0s 17ms/step - loss: 0.3691 - accuracy: 0.9236 - val_loss: 0.8834 - val_accuracy: 0.8080\n",
      "Epoch 9/20\n",
      "16/16 [==============================] - 0s 17ms/step - loss: 0.3080 - accuracy: 0.9328 - val_loss: 0.8800 - val_accuracy: 0.8110\n",
      "Epoch 10/20\n",
      "16/16 [==============================] - 0s 17ms/step - loss: 0.2574 - accuracy: 0.9420 - val_loss: 0.8716 - val_accuracy: 0.8140\n",
      "Epoch 11/20\n",
      "16/16 [==============================] - 0s 17ms/step - loss: 0.2182 - accuracy: 0.9486 - val_loss: 0.8853 - val_accuracy: 0.8220\n",
      "Epoch 12/20\n",
      "16/16 [==============================] - 0s 16ms/step - loss: 0.1937 - accuracy: 0.9499 - val_loss: 0.9175 - val_accuracy: 0.8120\n",
      "Epoch 13/20\n",
      "16/16 [==============================] - 0s 21ms/step - loss: 0.1716 - accuracy: 0.9518 - val_loss: 0.9097 - val_accuracy: 0.8140\n",
      "Epoch 14/20\n",
      "16/16 [==============================] - 0s 17ms/step - loss: 0.1548 - accuracy: 0.9550 - val_loss: 0.9419 - val_accuracy: 0.8110\n",
      "Epoch 15/20\n",
      "16/16 [==============================] - 0s 16ms/step - loss: 0.1426 - accuracy: 0.9558 - val_loss: 0.9870 - val_accuracy: 0.8050\n",
      "Epoch 16/20\n",
      "16/16 [==============================] - 0s 16ms/step - loss: 0.1355 - accuracy: 0.9546 - val_loss: 0.9568 - val_accuracy: 0.8120\n",
      "Epoch 17/20\n",
      "16/16 [==============================] - 0s 15ms/step - loss: 0.1303 - accuracy: 0.9560 - val_loss: 0.9781 - val_accuracy: 0.8240\n",
      "Epoch 18/20\n",
      "16/16 [==============================] - 0s 15ms/step - loss: 0.1210 - accuracy: 0.9568 - val_loss: 0.9916 - val_accuracy: 0.8050\n",
      "Epoch 19/20\n",
      "16/16 [==============================] - 0s 15ms/step - loss: 0.1190 - accuracy: 0.9568 - val_loss: 0.9903 - val_accuracy: 0.8180\n",
      "Epoch 20/20\n",
      "16/16 [==============================] - 0s 14ms/step - loss: 0.1146 - accuracy: 0.9580 - val_loss: 1.0480 - val_accuracy: 0.8030\n"
     ]
    }
   ],
   "metadata": {}
  },
  {
   "cell_type": "code",
   "execution_count": 36,
   "source": [
    "# 손실과 정확도 곡선 그림\r\n",
    "\r\n",
    "import matplotlib.pyplot as plt\r\n",
    "\r\n",
    "history_dict = history.history\r\n",
    "loss = history_dict['loss']\r\n",
    "val_loss = history_dict['val_loss']\r\n",
    "\r\n",
    "epochs = range(1, len(loss)+1)\r\n",
    "\r\n",
    "plt.figure(figsize = (16,12))\r\n",
    "plt.plot(epochs, loss, 'bo', label = 'Training loss')\r\n",
    "plt.plot(epochs, val_loss, 'b', label = 'Validation loss')\r\n",
    "plt.title('Training and validation loss')\r\n",
    "plt.xlabel('Epochs')\r\n",
    "plt.ylabel('loss')\r\n",
    "plt.legend()\r\n",
    "plt.show()"
   ],
   "outputs": [
    {
     "output_type": "display_data",
     "data": {
      "image/png": "[encoded data removed]",
      "text/plain": [
       "<Figure size 1152x864 with 1 Axes>"
      ]
     },
     "metadata": {
      "needs_background": "light"
     }
    }
   ],
   "metadata": {}
  },
  {
   "cell_type": "code",
   "execution_count": 37,
   "source": [
    "plt.clf()  # plt.clf ?\r\n",
    "acc = history_dict['accuracy']\r\n",
    "val_acc = history_dict['val_accuracy']\r\n",
    "\r\n",
    "plt.figure(figsize = (16,12))\r\n",
    "plt.plot(epochs, acc, 'bo', label = 'Training acc')\r\n",
    "plt.plot(epochs, val_acc, 'b', label = 'Valdidation acc')\r\n",
    "plt.title('Training and valdidation accuracy')\r\n",
    "plt.xlabel('Epochs')\r\n",
    "plt.ylabel('Accuracy')\r\n",
    "plt.legend()\r\n",
    "plt.show()"
   ],
   "outputs": [
    {
     "output_type": "display_data",
     "data": {
      "text/plain": [
       "<Figure size 432x288 with 0 Axes>"
      ]
     },
     "metadata": {}
    },
    {
     "output_type": "display_data",
     "data": {
      "image/png": "[encoded data removed]",
      "text/plain": [
       "<Figure size 1152x864 with 1 Axes>"
      ]
     },
     "metadata": {
      "needs_background": "light"
     }
    }
   ],
   "metadata": {}
  },
  {
   "cell_type": "code",
   "execution_count": 41,
   "source": [
    "# 9번째 에포크에서 과대적합 시작 -> 9번의 에포크로 새로운 모델 훈련\r\n",
    "\r\n",
    "model = models.Sequential()\r\n",
    "\r\n",
    "#은닉층 구간\r\n",
    "model.add(layers.Dense(64, activation ='relu', input_shape =(10000,))) # input shape?\r\n",
    "model.add(layers.Dense(64, activation='relu'))\r\n",
    "#은닉층\r\n",
    "\r\n",
    "model.add(layers.Dense(46, activation='softmax'))\r\n",
    "\r\n",
    "model.compile(optimizer = 'rmsprop', loss = 'categorical_crossentropy', metrics = ['accuracy'])\r\n",
    "model.fit(parital_x_train, partial_y_train, epochs = 9, batch_size = 512)\r\n",
    "results = model.evaluate(x_test, one_hot_test_labels)\r\n",
    "print(results)\r\n",
    "\r\n",
    "\r\n"
   ],
   "outputs": [
    {
     "output_type": "stream",
     "name": "stdout",
     "text": [
      "Epoch 1/9\n",
      "16/16 [==============================] - 0s 14ms/step - loss: 2.5926 - accuracy: 0.4892\n",
      "Epoch 2/9\n",
      "16/16 [==============================] - 0s 14ms/step - loss: 1.3950 - accuracy: 0.7022\n",
      "Epoch 3/9\n",
      "16/16 [==============================] - 0s 14ms/step - loss: 1.0569 - accuracy: 0.7722\n",
      "Epoch 4/9\n",
      "16/16 [==============================] - 0s 14ms/step - loss: 0.8476 - accuracy: 0.8186\n",
      "Epoch 5/9\n",
      "16/16 [==============================] - 0s 14ms/step - loss: 0.6755 - accuracy: 0.8567\n",
      "Epoch 6/9\n",
      "16/16 [==============================] - 0s 14ms/step - loss: 0.5374 - accuracy: 0.8817\n",
      "Epoch 7/9\n",
      "16/16 [==============================] - 0s 14ms/step - loss: 0.4357 - accuracy: 0.9044\n",
      "Epoch 8/9\n",
      "16/16 [==============================] - 0s 14ms/step - loss: 0.3525 - accuracy: 0.9241\n",
      "Epoch 9/9\n",
      "16/16 [==============================] - 0s 14ms/step - loss: 0.2895 - accuracy: 0.9361\n",
      "71/71 [==============================] - 0s 1ms/step - loss: 0.9812 - accuracy: 0.7818\n",
      "[0.9811697602272034, 0.7818343639373779]\n"
     ]
    }
   ],
   "metadata": {}
  },
  {
   "cell_type": "code",
   "execution_count": 45,
   "source": [
    "# 새로우데이터 예측\r\n",
    "predictions  = model.predict(x_test)"
   ],
   "outputs": [],
   "metadata": {}
  },
  {
   "cell_type": "code",
   "execution_count": 46,
   "source": [
    "predictions[0].shape"
   ],
   "outputs": [
    {
     "output_type": "execute_result",
     "data": {
      "text/plain": [
       "(46,)"
      ]
     },
     "metadata": {},
     "execution_count": 46
    }
   ],
   "metadata": {}
  },
  {
   "cell_type": "code",
   "execution_count": 47,
   "source": [
    "np.sum(predictions[0])\r\n"
   ],
   "outputs": [
    {
     "output_type": "execute_result",
     "data": {
      "text/plain": [
       "0.99999976"
      ]
     },
     "metadata": {},
     "execution_count": 47
    }
   ],
   "metadata": {}
  },
  {
   "cell_type": "code",
   "execution_count": 48,
   "source": [
    "np.argmax(predictions[0])"
   ],
   "outputs": [
    {
     "output_type": "execute_result",
     "data": {
      "text/plain": [
       "3"
      ]
     },
     "metadata": {},
     "execution_count": 48
    }
   ],
   "metadata": {}
  },
  {
   "cell_type": "code",
   "execution_count": null,
   "source": [],
   "outputs": [],
   "metadata": {}
  }
 ],
 "metadata": {
  "orig_nbformat": 4,
  "language_info": {
   "name": "python",
   "version": "3.8.10",
   "mimetype": "text/x-python",
   "codemirror_mode": {
    "name": "ipython",
    "version": 3
   },
   "pygments_lexer": "ipython3",
   "nbconvert_exporter": "python",
   "file_extension": ".py"
  },
  "kernelspec": {
   "name": "python3",
   "display_name": "Python 3.8.10 64-bit ('base': conda)"
  },
  "interpreter": {
   "hash": "6d46af94c2bbce495f1e668725902fa517c90b1782bcfe2fce0dd9868df553d3"
  }
 },
 "nbformat": 4,
 "nbformat_minor": 2
}